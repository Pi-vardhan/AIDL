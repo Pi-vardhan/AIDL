{
  "nbformat": 4,
  "nbformat_minor": 0,
  "metadata": {
    "colab": {
      "provenance": [],
      "authorship_tag": "ABX9TyOP+Ym14SNxzbTKaND6jT+w",
      "include_colab_link": true
    },
    "kernelspec": {
      "name": "python3",
      "display_name": "Python 3"
    },
    "language_info": {
      "name": "python"
    }
  },
  "cells": [
    {
      "cell_type": "markdown",
      "metadata": {
        "id": "view-in-github",
        "colab_type": "text"
      },
      "source": [
        "<a href=\"https://colab.research.google.com/github/Pi-vardhan/AIDL/blob/main/River_Crossing.ipynb\" target=\"_parent\"><img src=\"https://colab.research.google.com/assets/colab-badge.svg\" alt=\"Open In Colab\"/></a>"
      ]
    },
    {
      "cell_type": "code",
      "source": [
        "x = ['F', 'T', 'G', 'C']\n",
        "y = []\n",
        "print(\"Before Process........\")\n",
        "print(\"Elements in the Left Side Bank  ->\", x)\n",
        "print(\"Elements in the Right Side Bank ->\", y)"
      ],
      "metadata": {
        "colab": {
          "base_uri": "https://localhost:8080/"
        },
        "id": "_VUYH00qRoeh",
        "outputId": "d47ecc03-b906-4cc5-8f38-a551448862c5"
      },
      "execution_count": 6,
      "outputs": [
        {
          "output_type": "stream",
          "name": "stdout",
          "text": [
            "Before Process........\n",
            "Elements in the Left Side Bank  -> ['F', 'T', 'G', 'C']\n",
            "Elements in the Right Side Bank -> []\n"
          ]
        }
      ]
    },
    {
      "cell_type": "code",
      "execution_count": 7,
      "metadata": {
        "colab": {
          "base_uri": "https://localhost:8080/"
        },
        "id": "Fx4Sd7dkRPie",
        "outputId": "74f0d0ac-9085-48cd-82f0-0239320f032d"
      },
      "outputs": [
        {
          "output_type": "stream",
          "name": "stdout",
          "text": [
            "T  G  C Select any one from the list\n",
            "Enter the item: G\n",
            "After Process......\n",
            "Elements in the Left Side Bank  -> ['F', 'T', 'C', '']\n",
            "Elements in the Right Side Bank -> ['G']\n",
            "T  C   Select any one from the list\n",
            "Enter the item: C\n",
            "After Process......\n",
            "Elements in the Left Side Bank  -> ['F', 'T', 'G', '']\n",
            "Elements in the Right Side Bank -> ['C']\n",
            "T  G   Select any one from the list\n",
            "Enter the item: T\n",
            "After Process......\n",
            "Elements in the Left Side Bank  -> ['F', 'G', '', '']\n",
            "Elements in the Right Side Bank -> ['C', 'T']\n",
            "G     Select any one from the list\n",
            "Enter the item: G\n",
            "Goal is Reached\n"
          ]
        }
      ],
      "source": [
        "\n",
        "\n",
        "while True:\n",
        "    print(x[1], \"\", x[2], \"\", x[3], \"Select any one from the list\")\n",
        "    i = input(\"Enter the item: \")\n",
        "    i = i.upper()\n",
        "    if x[1] == i and x[2] == 'G' and x[3] == 'C':\n",
        "        print(\"Goat will eat Cabbage!\")\n",
        "        break\n",
        "    elif x[2] == i and x[3] != 'C':\n",
        "        y.append(x[2])\n",
        "        if len(y) == 2 and y[0] == 'G':\n",
        "            x[2] = y[0]\n",
        "            y[0] = y[1]\n",
        "            y.pop()\n",
        "    elif x[1]==i and x[2]=='G':\n",
        "        y.append(x[1])\n",
        "        x[1]=x[2]\n",
        "        x[2]=''\n",
        "    elif x[1]==i and x[2]=='C':\n",
        "        y.append(x[1])\n",
        "        x[1]=x[2]\n",
        "        x[2]=''\n",
        "        if len(y) == 2 and y[0] == 'G':\n",
        "            x[2] = y[0]\n",
        "            y[0] = y[1]\n",
        "            y.pop()\n",
        "    elif x[1]==i and x[2]!='C' and x[2]!='G':\n",
        "         y.append(x[1])\n",
        "         y.append('M')\n",
        "         x[1] = ''\n",
        "         x=[]\n",
        "         print(\"Goal is Reached\")\n",
        "         break\n",
        "\n",
        "    if x[2] == i and x[3] == 'C':\n",
        "          y.append(x[2])\n",
        "          x[2] = x[3]\n",
        "          x[3] = ''\n",
        "    if x[3] == i:\n",
        "            print(\"Tiger will eat Goat\")\n",
        "            break\n",
        "\n",
        "    print(\"After Process......\")\n",
        "    print(\"Elements in the Left Side Bank  ->\", x)\n",
        "    print(\"Elements in the Right Side Bank ->\", y)\n"
      ]
    }
  ]
}