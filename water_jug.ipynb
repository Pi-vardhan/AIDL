{
  "cells": [
    {
      "cell_type": "markdown",
      "metadata": {
        "id": "view-in-github",
        "colab_type": "text"
      },
      "source": [
        "<a href=\"https://colab.research.google.com/github/Pi-vardhan/AIDL/blob/main/water_jug.ipynb\" target=\"_parent\"><img src=\"https://colab.research.google.com/assets/colab-badge.svg\" alt=\"Open In Colab\"/></a>"
      ]
    },
    {
      "cell_type": "markdown",
      "source": [
        "# Initialization"
      ],
      "metadata": {
        "id": "66EPDPot_uwM"
      }
    },
    {
      "cell_type": "code",
      "execution_count": 12,
      "metadata": {
        "id": "5hdqYPCCN2RO"
      },
      "outputs": [],
      "source": [
        "seq = [[0,0]]\n",
        "x,y = 0,0"
      ]
    },
    {
      "cell_type": "markdown",
      "source": [
        "#Code"
      ],
      "metadata": {
        "id": "LNS90so5AHQr"
      }
    },
    {
      "cell_type": "code",
      "execution_count": 13,
      "metadata": {
        "colab": {
          "base_uri": "https://localhost:8080/"
        },
        "id": "Obx77smuPsy_",
        "outputId": "85e8622c-2756-43d0-f5bc-1468cdcb7468"
      },
      "outputs": [
        {
          "output_type": "stream",
          "name": "stdout",
          "text": [
            "Case 1: Fill 4L jug\n",
            "Case 2: Fill 3L jug\n",
            "Case 3: Empty 4L jug\n",
            "Case 4: Empty 3L jug\n",
            "Case 5: Pour from 4L jug to 3L jug\n",
            "Case 6: Pour from 3L jug to 4L jug\n",
            "[0, 0]\n",
            "Enter the Case to Use Now :2\n",
            "[0, 3]\n",
            "Enter the Case to Use Now :6\n",
            "[3, 0]\n",
            "Enter the Case to Use Now :2\n",
            "[3, 3]\n",
            "Enter the Case to Use Now :6\n",
            "[4, 2]\n",
            "Enter the Case to Use Now :3\n",
            "[0, 2]\n",
            "Enter the Case to Use Now :6\n",
            "Goal Reached! Exiting the Loop...\n",
            "[[0, 0], [0, 3], [3, 0], [3, 3], [4, 2], [0, 2], [2, 0]]\n"
          ]
        }
      ],
      "source": [
        "print('Case 1: Fill 4L jug')\n",
        "print('Case 2: Fill 3L jug')\n",
        "print('Case 3: Empty 4L jug')\n",
        "print('Case 4: Empty 3L jug')\n",
        "print('Case 5: Pour from 4L jug to 3L jug')\n",
        "print('Case 6: Pour from 3L jug to 4L jug')\n",
        "while seq[len(seq)-1] != [2,0]:\n",
        "  print(seq[len(seq)-1])\n",
        "  case = int(input(\"Enter the Case to Use Now :\"))\n",
        "  if case==1 and x<4: #filling 4L jug\n",
        "    x,y = 4,y\n",
        "    seq.append([x,y]) #filling 3L jug\n",
        "  elif case==2 and y<3:\n",
        "    x,y = x,3\n",
        "    seq.append([x,y])\n",
        "  elif case==3 and x>0:   #emptying 4L jug\n",
        "    x,y = 0,y\n",
        "    seq.append([x,y])\n",
        "  elif case==4 and y>0:   #emptying 3L jug\n",
        "    x,y = x,0\n",
        "    seq.append([x,y])\n",
        "  elif case==5 and x>0:   #4L jug to 3L jug\n",
        "    if x+y >= 3:\n",
        "      x,y = (x+y)-3,3\n",
        "    else:\n",
        "      x,y = 0,x+y\n",
        "    seq.append([x,y])\n",
        "  elif case==6 and y>0:   #3L jug to 4L jug\n",
        "    if x+y >= 4:\n",
        "      x,y = 4,(x+y)-4\n",
        "    else:\n",
        "      x,y = x+y,0\n",
        "    seq.append([x,y])\n",
        "  else:\n",
        "    print(\"Rules Violated!\")\n",
        "print('Goal Reached! Exiting the Loop...')\n",
        "print(seq)"
      ]
    }
  ],
  "metadata": {
    "colab": {
      "provenance": [],
      "authorship_tag": "ABX9TyP+jcCjZSgnLPrEiO3XmPNW",
      "include_colab_link": true
    },
    "kernelspec": {
      "display_name": "Python 3",
      "name": "python3"
    },
    "language_info": {
      "name": "python"
    }
  },
  "nbformat": 4,
  "nbformat_minor": 0
}