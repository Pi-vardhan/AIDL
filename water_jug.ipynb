{
  "cells": [
    {
      "cell_type": "markdown",
      "metadata": {
        "id": "view-in-github",
        "colab_type": "text"
      },
      "source": [
        "<a href=\"https://colab.research.google.com/github/Pi-vardhan/AIDL/blob/main/water_jug.ipynb\" target=\"_parent\"><img src=\"https://colab.research.google.com/assets/colab-badge.svg\" alt=\"Open In Colab\"/></a>"
      ]
    },
    {
      "cell_type": "markdown",
      "source": [
        "# Initialization"
      ],
      "metadata": {
        "id": "66EPDPot_uwM"
      }
    },
    {
      "cell_type": "code",
      "execution_count": null,
      "metadata": {
        "id": "5hdqYPCCN2RO"
      },
      "outputs": [],
      "source": [
        "seq = [[0,0]]\n",
        "x,y = 0,0"
      ]
    },
    {
      "cell_type": "markdown",
      "source": [
        "#Cases"
      ],
      "metadata": {
        "id": "4lZJ9jmfAAGa"
      }
    },
    {
      "cell_type": "code",
      "source": [
        "print('Case 1: Fill 4L jug')\n",
        "print('Case 2: Fill 3L jug')\n",
        "print('Case 3: Empty 4L jug')\n",
        "print('Case 4: Empty 3L jug')\n",
        "print('Case 5: Pour from 4L jug to 3L jug')\n",
        "print('Case 6: Pour from 3L jug to 4L jug')"
      ],
      "metadata": {
        "id": "slElsqix_gbX"
      },
      "execution_count": null,
      "outputs": []
    },
    {
      "cell_type": "markdown",
      "source": [
        "#Code"
      ],
      "metadata": {
        "id": "LNS90so5AHQr"
      }
    },
    {
      "cell_type": "code",
      "execution_count": null,
      "metadata": {
        "colab": {
          "background_save": true,
          "base_uri": "https://localhost:8080/"
        },
        "id": "Obx77smuPsy_",
        "outputId": "a04a0629-4a62-4813-d52c-57d8b73495b8"
      },
      "outputs": [
        {
          "name": "stdout",
          "output_type": "stream",
          "text": [
            " case 1 : Fill 4L jug\n",
            "case 2 : Fill 3L jug\n",
            "case 3 : Empty 4L jug\n",
            "case 4 : Empty 3L jug\n",
            "case 5 : Pour from 4L jug to 3L jug\n",
            "case 6 : Pour from 3L jug to 4L jug\n",
            "[1, 3]\n",
            "[0, 3]\n",
            "[0, 0]\n"
          ]
        }
      ],
      "source": [
        "\n",
        "while seq[len(seq)-1] != [2,0]:\n",
        "  print(seq[len(seq)-1])\n",
        "  case = int(input(\"Enter the Case to Use Now :\"))\n",
        "  if case==1 and x<4: #filling 4L jug\n",
        "    x,y = 4,y\n",
        "    seq.append([x,y]) #filling 3L jug\n",
        "  elif case==2 and y<3:\n",
        "    x,y = x,3\n",
        "    seq.append([x,y])\n",
        "  elif case==3 and x>0:   #emptying 4L jug\n",
        "    x,y = 0,y\n",
        "    seq.append([x,y])\n",
        "  elif case==4 and y>0:   #emptying 3L jug\n",
        "    x,y = x,0\n",
        "    seq.append([x,y])\n",
        "  elif case==5 and x>0:   #4L jug to 3L jug\n",
        "    if x+y >= 3:\n",
        "      x,y = x-3,3\n",
        "    else:\n",
        "      x,y = 0,x+y\n",
        "    seq.append([x,y])\n",
        "  elif case==6 and y>0:   #3L jug to 4L jug\n",
        "    if x+y >= 4:\n",
        "      x,y = 4,y-4\n",
        "    else:\n",
        "      x,y = x+y,0\n",
        "    seq.append([x,y])\n",
        "  else:\n",
        "    print(\"Rules Violated!\")\n",
        "print(seq)"
      ]
    }
  ],
  "metadata": {
    "colab": {
      "provenance": [],
      "authorship_tag": "ABX9TyNcs/Po3JZqffopFAuBWOlz",
      "include_colab_link": true
    },
    "kernelspec": {
      "display_name": "Python 3",
      "name": "python3"
    },
    "language_info": {
      "name": "python"
    }
  },
  "nbformat": 4,
  "nbformat_minor": 0
}